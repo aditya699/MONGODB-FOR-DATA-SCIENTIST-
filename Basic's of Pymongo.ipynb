{
 "cells": [
  {
   "attachments": {},
   "cell_type": "markdown",
   "metadata": {},
   "source": [
    "# Must Know Pymongo"
   ]
  },
  {
   "attachments": {},
   "cell_type": "markdown",
   "metadata": {},
   "source": [
    "# Basic Connections"
   ]
  },
  {
   "cell_type": "code",
   "execution_count": 1,
   "metadata": {},
   "outputs": [
    {
     "data": {
      "text/plain": [
       "MongoClient(host=['localhost:27017'], document_class=dict, tz_aware=False, connect=True)"
      ]
     },
     "execution_count": 1,
     "metadata": {},
     "output_type": "execute_result"
    }
   ],
   "source": [
    "#Connection\n",
    "import pymongo\n",
    "client = pymongo.MongoClient(\"mongodb://localhost:27017/\")\n",
    "client"
   ]
  },
  {
   "cell_type": "code",
   "execution_count": 2,
   "metadata": {},
   "outputs": [
    {
     "data": {
      "text/plain": [
       "['ProductOrder', 'admin', 'config', 'local', 'mynewdb', 'students']"
      ]
     },
     "execution_count": 2,
     "metadata": {},
     "output_type": "execute_result"
    }
   ],
   "source": [
    "#List the names of the existing databases\n",
    "client.list_database_names()"
   ]
  },
  {
   "cell_type": "code",
   "execution_count": 17,
   "metadata": {},
   "outputs": [],
   "source": [
    "#Hit a dabase\n",
    "db=client['ProductOrder']"
   ]
  },
  {
   "cell_type": "code",
   "execution_count": 18,
   "metadata": {},
   "outputs": [],
   "source": [
    "#Using a existing collection or create a new collection\n",
    "mycol=db['Product']"
   ]
  },
  {
   "attachments": {},
   "cell_type": "markdown",
   "metadata": {},
   "source": [
    "# As a data analyst / scientist reading data is very important"
   ]
  },
  {
   "cell_type": "code",
   "execution_count": 19,
   "metadata": {},
   "outputs": [],
   "source": [
    "x=mycol.find()"
   ]
  },
  {
   "cell_type": "code",
   "execution_count": 20,
   "metadata": {},
   "outputs": [
    {
     "name": "stdout",
     "output_type": "stream",
     "text": [
      "{'_id': ObjectId('645eeda2abaa9030d0a0f1f4'), 'sku': 'SNY-11001', 'code': 'Sony-01', 'price': 100000, 'created': '2021-08-09 12:32:56', 'last_updated': '2021-08-09 12:32:56', 'brand': 'Sony', 'model': 'Bravia-X', 'warranty': 5}\n",
      "{'_id': ObjectId('645eeda2abaa9030d0a0f1f5'), 'sku': 'SNY-12002', 'code': 'Sony-02', 'price': 120000, 'created': '2021-09-19 08:23:45', 'last_updated': '2021-09-19 08:23:45', 'brand': 'Sony', 'model': 'Bravia-Z', 'warranty': 5}\n",
      "{'_id': ObjectId('645eeda2abaa9030d0a0f1f6'), 'sku': 'SMG-21001', 'code': 'Samsung-01', 'price': 66000, 'created': '2021-07-13 16:46:32', 'last_updated': '2021-07-13 16:46:32', 'brand': 'Samsung', 'model': 'XZ', 'warranty': 3}\n",
      "{'_id': ObjectId('645eeda2abaa9030d0a0f1f7'), 'sku': 'LLG-32001', 'code': 'LG-01', 'price': 64000, 'created': '2021-10-28 18:34:21', 'last_updated': '2021-10-28 18:34:21', 'brand': 'LG', 'model': 'ZX', 'warranty': 3}\n",
      "{'_id': ObjectId('645eeda2abaa9030d0a0f1f8'), 'sku': 'PNS-18001', 'code': 'Panasonic-01', 'price': 62000, 'created': '2021-11-01 19:21:00', 'last_updated': '2021-11-01 19:21:00', 'brand': 'Panasonic', 'model': 'LY', 'warranty': 3}\n",
      "{'_id': ObjectId('645eeda2abaa9030d0a0f1f9'), 'sku': 'SMG-22002', 'code': 'Samsung-02', 'price': 79000, 'created': '2021-10-13 23:01:24', 'last_updated': '2021-10-13 23:01:24', 'brand': 'Samsung', 'model': 'G', 'warranty': 4}\n",
      "{'_id': ObjectId('645eeda2abaa9030d0a0f1fa'), 'sku': 'LLG-33002', 'code': 'LG-02', 'price': 80000, 'created': '2021-11-03 22:00:15', 'last_updated': '2021-11-03 22:00:15', 'brand': 'LG', 'model': 'N', 'warranty': 4}\n",
      "{'_id': ObjectId('645eeda2abaa9030d0a0f1fb'), 'sku': 'HER-13001', 'code': 'Haier-01', 'price': 75000, 'created': '2021-11-20 16:17:18', 'last_updated': '2021-11-20 16:17:18', 'brand': 'Haier', 'model': 'A', 'warranty': 4}\n",
      "{'_id': ObjectId('645eeda2abaa9030d0a0f1fc'), 'sku': 'APL-01001', 'code': 'AppleTV-01', 'price': 150000, 'created': '2021-11-05 18:32:09', 'last_updated': '2021-11-05 18:32:09', 'brand': 'AppleTV', 'model': 'AP1', 'warranty': 5}\n",
      "{'_id': ObjectId('645eeda2abaa9030d0a0f1fd'), 'sku': 'GGL-10001', 'code': 'GoogleTV-01', 'price': 120000, 'created': '2021-10-01 20:00:54', 'last_updated': '2021-10-01 20:00:54', 'brand': 'GoogleTV', 'model': 'GO1', 'warranty': 5}\n"
     ]
    }
   ],
   "source": [
    "for i in x:\n",
    "    print(i)"
   ]
  },
  {
   "attachments": {},
   "cell_type": "markdown",
   "metadata": {},
   "source": [
    "# Using the above data u can do any sort of data analysis by converting it to dataframe "
   ]
  },
  {
   "attachments": {},
   "cell_type": "markdown",
   "metadata": {},
   "source": [
    "# Using limit to limit the outcome"
   ]
  },
  {
   "cell_type": "code",
   "execution_count": 22,
   "metadata": {},
   "outputs": [
    {
     "name": "stdout",
     "output_type": "stream",
     "text": [
      "{'_id': ObjectId('645eeda2abaa9030d0a0f1f4'), 'sku': 'SNY-11001', 'code': 'Sony-01', 'price': 100000, 'created': '2021-08-09 12:32:56', 'last_updated': '2021-08-09 12:32:56', 'brand': 'Sony', 'model': 'Bravia-X', 'warranty': 5}\n"
     ]
    }
   ],
   "source": [
    "x=mycol.find().limit(1)\n",
    "for i in x:\n",
    "    print(i)"
   ]
  },
  {
   "attachments": {},
   "cell_type": "markdown",
   "metadata": {},
   "source": [
    "# Using distinct to see the distict values in a column"
   ]
  },
  {
   "cell_type": "code",
   "execution_count": 23,
   "metadata": {},
   "outputs": [
    {
     "name": "stdout",
     "output_type": "stream",
     "text": [
      "A\n",
      "AP1\n",
      "Bravia-X\n",
      "Bravia-Z\n",
      "G\n",
      "GO1\n",
      "LY\n",
      "N\n",
      "XZ\n",
      "ZX\n"
     ]
    }
   ],
   "source": [
    "x=mycol.distinct(\"model\")\n",
    "for i in x:\n",
    "    print(i)"
   ]
  },
  {
   "attachments": {},
   "cell_type": "markdown",
   "metadata": {},
   "source": [
    "# Reading json"
   ]
  },
  {
   "cell_type": "code",
   "execution_count": 25,
   "metadata": {},
   "outputs": [],
   "source": [
    "import pandas as pd\n",
    "df = pd.read_json('Product.json')"
   ]
  },
  {
   "cell_type": "code",
   "execution_count": 26,
   "metadata": {},
   "outputs": [
    {
     "data": {
      "text/html": [
       "<div>\n",
       "<style scoped>\n",
       "    .dataframe tbody tr th:only-of-type {\n",
       "        vertical-align: middle;\n",
       "    }\n",
       "\n",
       "    .dataframe tbody tr th {\n",
       "        vertical-align: top;\n",
       "    }\n",
       "\n",
       "    .dataframe thead th {\n",
       "        text-align: right;\n",
       "    }\n",
       "</style>\n",
       "<table border=\"1\" class=\"dataframe\">\n",
       "  <thead>\n",
       "    <tr style=\"text-align: right;\">\n",
       "      <th></th>\n",
       "      <th>_id</th>\n",
       "      <th>sku</th>\n",
       "      <th>code</th>\n",
       "      <th>price</th>\n",
       "      <th>created</th>\n",
       "      <th>last_updated</th>\n",
       "      <th>brand</th>\n",
       "      <th>model</th>\n",
       "      <th>warranty</th>\n",
       "    </tr>\n",
       "  </thead>\n",
       "  <tbody>\n",
       "    <tr>\n",
       "      <th>0</th>\n",
       "      <td>{'$oid': '645eeda2abaa9030d0a0f1f4'}</td>\n",
       "      <td>SNY-11001</td>\n",
       "      <td>Sony-01</td>\n",
       "      <td>100000</td>\n",
       "      <td>2021-08-09 12:32:56</td>\n",
       "      <td>2021-08-09 12:32:56</td>\n",
       "      <td>Sony</td>\n",
       "      <td>Bravia-X</td>\n",
       "      <td>5</td>\n",
       "    </tr>\n",
       "    <tr>\n",
       "      <th>1</th>\n",
       "      <td>{'$oid': '645eeda2abaa9030d0a0f1f5'}</td>\n",
       "      <td>SNY-12002</td>\n",
       "      <td>Sony-02</td>\n",
       "      <td>120000</td>\n",
       "      <td>2021-09-19 08:23:45</td>\n",
       "      <td>2021-09-19 08:23:45</td>\n",
       "      <td>Sony</td>\n",
       "      <td>Bravia-Z</td>\n",
       "      <td>5</td>\n",
       "    </tr>\n",
       "    <tr>\n",
       "      <th>2</th>\n",
       "      <td>{'$oid': '645eeda2abaa9030d0a0f1f6'}</td>\n",
       "      <td>SMG-21001</td>\n",
       "      <td>Samsung-01</td>\n",
       "      <td>66000</td>\n",
       "      <td>2021-07-13 16:46:32</td>\n",
       "      <td>2021-07-13 16:46:32</td>\n",
       "      <td>Samsung</td>\n",
       "      <td>XZ</td>\n",
       "      <td>3</td>\n",
       "    </tr>\n",
       "    <tr>\n",
       "      <th>3</th>\n",
       "      <td>{'$oid': '645eeda2abaa9030d0a0f1f7'}</td>\n",
       "      <td>LLG-32001</td>\n",
       "      <td>LG-01</td>\n",
       "      <td>64000</td>\n",
       "      <td>2021-10-28 18:34:21</td>\n",
       "      <td>2021-10-28 18:34:21</td>\n",
       "      <td>LG</td>\n",
       "      <td>ZX</td>\n",
       "      <td>3</td>\n",
       "    </tr>\n",
       "    <tr>\n",
       "      <th>4</th>\n",
       "      <td>{'$oid': '645eeda2abaa9030d0a0f1f8'}</td>\n",
       "      <td>PNS-18001</td>\n",
       "      <td>Panasonic-01</td>\n",
       "      <td>62000</td>\n",
       "      <td>2021-11-01 19:21:00</td>\n",
       "      <td>2021-11-01 19:21:00</td>\n",
       "      <td>Panasonic</td>\n",
       "      <td>LY</td>\n",
       "      <td>3</td>\n",
       "    </tr>\n",
       "  </tbody>\n",
       "</table>\n",
       "</div>"
      ],
      "text/plain": [
       "                                    _id        sku          code   price  \\\n",
       "0  {'$oid': '645eeda2abaa9030d0a0f1f4'}  SNY-11001       Sony-01  100000   \n",
       "1  {'$oid': '645eeda2abaa9030d0a0f1f5'}  SNY-12002       Sony-02  120000   \n",
       "2  {'$oid': '645eeda2abaa9030d0a0f1f6'}  SMG-21001    Samsung-01   66000   \n",
       "3  {'$oid': '645eeda2abaa9030d0a0f1f7'}  LLG-32001         LG-01   64000   \n",
       "4  {'$oid': '645eeda2abaa9030d0a0f1f8'}  PNS-18001  Panasonic-01   62000   \n",
       "\n",
       "               created         last_updated      brand     model  warranty  \n",
       "0  2021-08-09 12:32:56  2021-08-09 12:32:56       Sony  Bravia-X         5  \n",
       "1  2021-09-19 08:23:45  2021-09-19 08:23:45       Sony  Bravia-Z         5  \n",
       "2  2021-07-13 16:46:32  2021-07-13 16:46:32    Samsung        XZ         3  \n",
       "3  2021-10-28 18:34:21  2021-10-28 18:34:21         LG        ZX         3  \n",
       "4  2021-11-01 19:21:00  2021-11-01 19:21:00  Panasonic        LY         3  "
      ]
     },
     "execution_count": 26,
     "metadata": {},
     "output_type": "execute_result"
    }
   ],
   "source": [
    "df.head()"
   ]
  },
  {
   "attachments": {},
   "cell_type": "markdown",
   "metadata": {},
   "source": [
    "# With the above datafram u can bulit ml /ai models as well."
   ]
  },
  {
   "attachments": {},
   "cell_type": "markdown",
   "metadata": {},
   "source": [
    "# Refer this and solve your particular usecase\n",
    "# https://pymongo.readthedocs.io/en/stable/#:~:text=PyMongo%20is%20a%20Python%20distribution,to%20know%20to%20use%20PyMongo.&text=Instructions%20on%20how%20to%20get%20the%20distribution."
   ]
  }
 ],
 "metadata": {
  "interpreter": {
   "hash": "f471954c9a3b87bd82fb04b016b50fc085f406546f3899c227b60e83e54ab5d5"
  },
  "kernelspec": {
   "display_name": "Python 3.7.6 64-bit ('base': conda)",
   "language": "python",
   "name": "python3"
  },
  "language_info": {
   "codemirror_mode": {
    "name": "ipython",
    "version": 3
   },
   "file_extension": ".py",
   "mimetype": "text/x-python",
   "name": "python",
   "nbconvert_exporter": "python",
   "pygments_lexer": "ipython3",
   "version": "3.7.6"
  },
  "orig_nbformat": 4
 },
 "nbformat": 4,
 "nbformat_minor": 2
}
